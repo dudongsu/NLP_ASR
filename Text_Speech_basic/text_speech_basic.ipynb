{
 "cells": [
  {
   "cell_type": "markdown",
   "metadata": {},
   "source": [
    "# Chapter 3 - Text and Speech Basics\n",
    "Let's start by downloading and loading the data."
   ]
  },
  {
   "cell_type": "code",
   "execution_count": 1,
   "metadata": {},
   "outputs": [],
   "source": [
    "import numpy as np\n",
    "import scipy\n",
    "import matplotlib.pyplot as plt\n",
    "import pandas as pd\n",
    "import sklearn"
   ]
  },
  {
   "cell_type": "code",
   "execution_count": 5,
   "metadata": {},
   "outputs": [
    {
     "name": "stdout",
     "output_type": "stream",
     "text": [
      "Done!\n"
     ]
    }
   ],
   "source": [
    "filelist = ['reuters-000.json',\n",
    "            'reuters-001.json',\n",
    "            'reuters-002.json',\n",
    "            'reuters-003.json',\n",
    "            'reuters-004.json',\n",
    "            'reuters-005.json',\n",
    "            'reuters-006.json',\n",
    "            'reuters-007.json',\n",
    "            'reuters-008.json',\n",
    "            'reuters-009.json',\n",
    "            'reuters-010.json',\n",
    "            'reuters-011.json',\n",
    "            'reuters-012.json',\n",
    "            'reuters-013.json',\n",
    "            'reuters-014.json',\n",
    "            'reuters-015.json',\n",
    "            'reuters-016.json',\n",
    "            'reuters-017.json',\n",
    "            'reuters-018.json',\n",
    "            'reuters-019.json',\n",
    "            'reuters-020.json',\n",
    "            'reuters-021.json']\n",
    "data_set = pd.DataFrame()\n",
    "for fname in filelist:\n",
    "    df = pd.read_json('data/reuters-21578-json/'+fname).T\n",
    "    data_set = data_set.append(df)\n",
    "data_set = data_set.fillna('')\n",
    "print(\"Done!\")  "
   ]
  },
  {
   "cell_type": "code",
   "execution_count": null,
   "metadata": {},
   "outputs": [],
   "source": []
  }
 ],
 "metadata": {
  "kernelspec": {
   "display_name": "Python 3.8.5 64-bit ('base': conda)",
   "name": "python385jvsc74a57bd093dce634a4e40bb8191b07bd57396d39e49f4f700b78aaf8cb2fd0ef8e3b3e57"
  },
  "language_info": {
   "codemirror_mode": {
    "name": "ipython",
    "version": 3
   },
   "file_extension": ".py",
   "mimetype": "text/x-python",
   "name": "python",
   "nbconvert_exporter": "python",
   "pygments_lexer": "ipython3",
   "version": "3.8.5"
  },
  "orig_nbformat": 2
 },
 "nbformat": 4,
 "nbformat_minor": 2
}